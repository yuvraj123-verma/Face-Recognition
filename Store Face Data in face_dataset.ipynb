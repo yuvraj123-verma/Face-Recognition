{
 "cells": [
  {
   "cell_type": "code",
   "execution_count": 4,
   "id": "3bc5735a",
   "metadata": {},
   "outputs": [
    {
     "name": "stdout",
     "output_type": "stream",
     "text": [
      "Enter the name of the Person : Yuvraj Lodhi\n",
      "1\n",
      "2\n",
      "3\n",
      "4\n",
      "5\n",
      "6\n",
      "7\n",
      "8\n",
      "9\n",
      "10\n",
      "11\n",
      "12\n",
      "13\n",
      "14\n",
      "15\n",
      "16\n",
      "17\n",
      "18\n",
      "(18, 30000)\n",
      "Dataset saved at : ./face_dataset/Yuvraj Lodhi.npy\n"
     ]
    }
   ],
   "source": [
    "import cv2 as cv\n",
    "import numpy as np\n",
    "\n",
    "cap = cv.VideoCapture(0)\n",
    "face_cascade = cv.CascadeClassifier('haarcascade_frontalface_default.xml')\n",
    "\n",
    "skip = 0\n",
    "face_data = []\n",
    "dataset_path = \"./face_dataset/\"\n",
    "\n",
    "file_name = input('Enter the name of the Person : ')\n",
    "\n",
    "while cap.isOpened():\n",
    "    ret, frame = cap.read()\n",
    "    \n",
    "    gray_frame = cv.cvtColor(frame, cv.COLOR_BGR2GRAY)\n",
    "    \n",
    "    if ret == False:\n",
    "        continue\n",
    "    faces = face_cascade.detectMultiScale(gray_frame, 1.3, 5)  # Frame_name, scaling factore, no of neighbour\n",
    "    if len(faces) == 0:\n",
    "        continue\n",
    "    k = 1\n",
    "    \n",
    "    faces = sorted(faces,key = lambda x: x[2]*x[3], reverse= True)\n",
    "    skip += 1\n",
    "    \n",
    "    for face in faces[:1]:\n",
    "        x, y, w, h = face\n",
    "        offset = 5\n",
    "        face_offset = frame[y-offset:y+h+offset, x - offset: x+w+offset]\n",
    "        face_selection = cv.resize(face_offset, (100, 100))\n",
    "        \n",
    "        if skip % 10 == 0:\n",
    "            face_data.append(face_selection)\n",
    "            print(len(face_data))\n",
    "        cv.imshow(str(k), face_selection)\n",
    "        k+=1\n",
    "        \n",
    "        cv.rectangle(frame, (x, y), (x+w, y+h), (0, 255, 0), 2)\n",
    "        \n",
    "    cv.imshow('frame', frame)\n",
    "    if cv.waitKey(1) & 0xff == ord('q'):\n",
    "        break\n",
    "\n",
    "face_data = np.array(face_data)\n",
    "face_data = face_data.reshape((face_data.shape[0], -1))\n",
    "print(face_data.shape)\n",
    "\n",
    "np.save(dataset_path + file_name, face_data)\n",
    "print(f'Dataset saved at : {dataset_path + file_name}.npy')\n",
    "\n",
    "cap.release()\n",
    "cv.destroyAllWindows()"
   ]
  },
  {
   "cell_type": "code",
   "execution_count": null,
   "id": "f9e8cee6",
   "metadata": {},
   "outputs": [],
   "source": []
  }
 ],
 "metadata": {
  "kernelspec": {
   "display_name": "Python 3",
   "language": "python",
   "name": "python3"
  },
  "language_info": {
   "codemirror_mode": {
    "name": "ipython",
    "version": 3
   },
   "file_extension": ".py",
   "mimetype": "text/x-python",
   "name": "python",
   "nbconvert_exporter": "python",
   "pygments_lexer": "ipython3",
   "version": "3.9.5"
  }
 },
 "nbformat": 4,
 "nbformat_minor": 5
}
